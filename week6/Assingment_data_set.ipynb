{
 "cells": [
  {
   "cell_type": "markdown",
   "metadata": {
    "deletable": true,
    "editable": true
   },
   "source": [
    "#play with function\n",
    "*bold*\n"
   ]
  },
  {
   "cell_type": "code",
   "execution_count": 1,
   "metadata": {
    "collapsed": true,
    "deletable": true,
    "editable": true
   },
   "outputs": [],
   "source": [
    "import matplotlib\n",
    "import matplotlib.pyplot as plt\n",
    "import numpy as np\n",
    "import pandas as pd\n",
    "import os\n",
    "import gmplot\n",
    "\n"
   ]
  },
  {
   "cell_type": "markdown",
   "metadata": {
    "deletable": true,
    "editable": true
   },
   "source": [
    "tell jupyter to put graphs and things in the notebook instead of the default behavious which is to save it as a file."
   ]
  },
  {
   "cell_type": "code",
   "execution_count": 2,
   "metadata": {
    "collapsed": true,
    "deletable": true,
    "editable": true
   },
   "outputs": [],
   "source": [
    "%matplotlib inline\n",
    "plt.rcParams['figure.figsize'] = (20, 10)"
   ]
  },
  {
   "cell_type": "code",
   "execution_count": 3,
   "metadata": {
    "collapsed": true,
    "deletable": true,
    "editable": true
   },
   "outputs": [],
   "source": [
    "saved_style_state = matplotlib.rcParams.copy() #give us a style state to go back to"
   ]
  },
  {
   "cell_type": "code",
   "execution_count": 4,
   "metadata": {
    "collapsed": false,
    "deletable": true,
    "editable": true
   },
   "outputs": [
    {
     "name": "stdout",
     "output_type": "stream",
     "text": [
      "loading file\n",
      "done\n"
     ]
    }
   ],
   "source": [
    "if os.path.isfile(\"listings.csv\"):\n",
    "    filepath = \"listings.csv\"\n",
    "    print \"loading file\"\n",
    "else:\n",
    "    filepath = \"http://data.insideairbnb.com/australia/nsw/sydney/2017-04-03/visualisations/listings.csv\"\n",
    "    print \"loading data from internet\"\n",
    "\n",
    "data_set = pd.read_csv(filepath)\n",
    "print \"done\""
   ]
  },
  {
   "cell_type": "code",
   "execution_count": 5,
   "metadata": {
    "collapsed": false,
    "deletable": true,
    "editable": true
   },
   "outputs": [
    {
     "data": {
      "text/html": [
       "<div>\n",
       "<table border=\"1\" class=\"dataframe\">\n",
       "  <thead>\n",
       "    <tr style=\"text-align: right;\">\n",
       "      <th></th>\n",
       "      <th>id</th>\n",
       "      <th>name</th>\n",
       "      <th>host_id</th>\n",
       "      <th>host_name</th>\n",
       "      <th>neighbourhood_group</th>\n",
       "      <th>neighbourhood</th>\n",
       "      <th>latitude</th>\n",
       "      <th>longitude</th>\n",
       "      <th>room_type</th>\n",
       "      <th>price</th>\n",
       "      <th>minimum_nights</th>\n",
       "      <th>number_of_reviews</th>\n",
       "      <th>last_review</th>\n",
       "      <th>reviews_per_month</th>\n",
       "      <th>calculated_host_listings_count</th>\n",
       "      <th>availability_365</th>\n",
       "    </tr>\n",
       "  </thead>\n",
       "  <tbody>\n",
       "    <tr>\n",
       "      <th>0</th>\n",
       "      <td>16194102</td>\n",
       "      <td>Large townhouse in Warriewood near Beach &amp; shops</td>\n",
       "      <td>50355584</td>\n",
       "      <td>Karen</td>\n",
       "      <td>NaN</td>\n",
       "      <td>Pittwater</td>\n",
       "      <td>-33.680820</td>\n",
       "      <td>151.286877</td>\n",
       "      <td>Entire home/apt</td>\n",
       "      <td>152</td>\n",
       "      <td>3</td>\n",
       "      <td>0</td>\n",
       "      <td>NaN</td>\n",
       "      <td>NaN</td>\n",
       "      <td>1</td>\n",
       "      <td>0</td>\n",
       "    </tr>\n",
       "    <tr>\n",
       "      <th>1</th>\n",
       "      <td>16231561</td>\n",
       "      <td>Modern,  clean  &amp;  comfortable</td>\n",
       "      <td>101457989</td>\n",
       "      <td>David &amp; Claudia</td>\n",
       "      <td>NaN</td>\n",
       "      <td>Pittwater</td>\n",
       "      <td>-33.706076</td>\n",
       "      <td>151.295526</td>\n",
       "      <td>Entire home/apt</td>\n",
       "      <td>95</td>\n",
       "      <td>1</td>\n",
       "      <td>19</td>\n",
       "      <td>2017-02-25</td>\n",
       "      <td>4.87</td>\n",
       "      <td>1</td>\n",
       "      <td>159</td>\n",
       "    </tr>\n",
       "    <tr>\n",
       "      <th>2</th>\n",
       "      <td>15526112</td>\n",
       "      <td>Bright Beachside house minutes to the beach</td>\n",
       "      <td>51175994</td>\n",
       "      <td>Jaycie</td>\n",
       "      <td>NaN</td>\n",
       "      <td>Pittwater</td>\n",
       "      <td>-33.699979</td>\n",
       "      <td>151.307498</td>\n",
       "      <td>Entire home/apt</td>\n",
       "      <td>300</td>\n",
       "      <td>2</td>\n",
       "      <td>4</td>\n",
       "      <td>2017-02-04</td>\n",
       "      <td>0.85</td>\n",
       "      <td>2</td>\n",
       "      <td>365</td>\n",
       "    </tr>\n",
       "    <tr>\n",
       "      <th>3</th>\n",
       "      <td>4849322</td>\n",
       "      <td>Do you enjoy a beaches lifestyle 2</td>\n",
       "      <td>5409864</td>\n",
       "      <td>Annie</td>\n",
       "      <td>NaN</td>\n",
       "      <td>Pittwater</td>\n",
       "      <td>-33.679562</td>\n",
       "      <td>151.291916</td>\n",
       "      <td>Private room</td>\n",
       "      <td>75</td>\n",
       "      <td>2</td>\n",
       "      <td>23</td>\n",
       "      <td>2017-04-02</td>\n",
       "      <td>0.90</td>\n",
       "      <td>3</td>\n",
       "      <td>349</td>\n",
       "    </tr>\n",
       "    <tr>\n",
       "      <th>4</th>\n",
       "      <td>11537464</td>\n",
       "      <td>Rooms With A View</td>\n",
       "      <td>60462412</td>\n",
       "      <td>Mel</td>\n",
       "      <td>NaN</td>\n",
       "      <td>Pittwater</td>\n",
       "      <td>-33.705918</td>\n",
       "      <td>151.297098</td>\n",
       "      <td>Entire home/apt</td>\n",
       "      <td>1000</td>\n",
       "      <td>5</td>\n",
       "      <td>1</td>\n",
       "      <td>2017-01-07</td>\n",
       "      <td>0.34</td>\n",
       "      <td>1</td>\n",
       "      <td>27</td>\n",
       "    </tr>\n",
       "  </tbody>\n",
       "</table>\n",
       "</div>"
      ],
      "text/plain": [
       "         id                                              name    host_id  \\\n",
       "0  16194102  Large townhouse in Warriewood near Beach & shops   50355584   \n",
       "1  16231561                    Modern,  clean  &  comfortable  101457989   \n",
       "2  15526112       Bright Beachside house minutes to the beach   51175994   \n",
       "3   4849322                Do you enjoy a beaches lifestyle 2    5409864   \n",
       "4  11537464                                 Rooms With A View   60462412   \n",
       "\n",
       "         host_name  neighbourhood_group neighbourhood   latitude   longitude  \\\n",
       "0            Karen                  NaN     Pittwater -33.680820  151.286877   \n",
       "1  David & Claudia                  NaN     Pittwater -33.706076  151.295526   \n",
       "2           Jaycie                  NaN     Pittwater -33.699979  151.307498   \n",
       "3            Annie                  NaN     Pittwater -33.679562  151.291916   \n",
       "4              Mel                  NaN     Pittwater -33.705918  151.297098   \n",
       "\n",
       "         room_type  price  minimum_nights  number_of_reviews last_review  \\\n",
       "0  Entire home/apt    152               3                  0         NaN   \n",
       "1  Entire home/apt     95               1                 19  2017-02-25   \n",
       "2  Entire home/apt    300               2                  4  2017-02-04   \n",
       "3     Private room     75               2                 23  2017-04-02   \n",
       "4  Entire home/apt   1000               5                  1  2017-01-07   \n",
       "\n",
       "   reviews_per_month  calculated_host_listings_count  availability_365  \n",
       "0                NaN                               1                 0  \n",
       "1               4.87                               1               159  \n",
       "2               0.85                               2               365  \n",
       "3               0.90                               3               349  \n",
       "4               0.34                               1                27  "
      ]
     },
     "execution_count": 5,
     "metadata": {},
     "output_type": "execute_result"
    }
   ],
   "source": [
    "data_set.head()\n"
   ]
  },
  {
   "cell_type": "code",
   "execution_count": 6,
   "metadata": {
    "collapsed": false,
    "deletable": true,
    "editable": true
   },
   "outputs": [
    {
     "data": {
      "text/plain": [
       "Index([u'id', u'name', u'host_id', u'host_name', u'neighbourhood_group',\n",
       "       u'neighbourhood', u'latitude', u'longitude', u'room_type', u'price',\n",
       "       u'minimum_nights', u'number_of_reviews', u'last_review',\n",
       "       u'reviews_per_month', u'calculated_host_listings_count',\n",
       "       u'availability_365'],\n",
       "      dtype='object')"
      ]
     },
     "execution_count": 6,
     "metadata": {},
     "output_type": "execute_result"
    }
   ],
   "source": [
    "data_set.columns"
   ]
  },
  {
   "cell_type": "code",
   "execution_count": 7,
   "metadata": {
    "collapsed": false,
    "deletable": true,
    "editable": true
   },
   "outputs": [
    {
     "data": {
      "text/plain": [
       "0          0\n",
       "1        159\n",
       "2        365\n",
       "3        349\n",
       "4         27\n",
       "5        323\n",
       "6          5\n",
       "7          0\n",
       "8          6\n",
       "9         35\n",
       "10       332\n",
       "11       292\n",
       "12         0\n",
       "13       290\n",
       "14       361\n",
       "15         0\n",
       "16       119\n",
       "17       361\n",
       "18         0\n",
       "19         0\n",
       "20        41\n",
       "21       365\n",
       "22       349\n",
       "23        37\n",
       "24       364\n",
       "25         0\n",
       "26        87\n",
       "27         0\n",
       "28        93\n",
       "29        59\n",
       "        ... \n",
       "24008    181\n",
       "24009    348\n",
       "24010    346\n",
       "24011    364\n",
       "24012    278\n",
       "24013    181\n",
       "24014      0\n",
       "24015      5\n",
       "24016    326\n",
       "24017      6\n",
       "24018    351\n",
       "24019    127\n",
       "24020    344\n",
       "24021     87\n",
       "24022    350\n",
       "24023     70\n",
       "24024    331\n",
       "24025      0\n",
       "24026     36\n",
       "24027     90\n",
       "24028    335\n",
       "24029    180\n",
       "24030    178\n",
       "24031    347\n",
       "24032     79\n",
       "24033     89\n",
       "24034     83\n",
       "24035     99\n",
       "24036     11\n",
       "24037     69\n",
       "Name: availability_365, dtype: int64"
      ]
     },
     "execution_count": 7,
     "metadata": {},
     "output_type": "execute_result"
    }
   ],
   "source": [
    "data_set[\"availability_365\"]"
   ]
  },
  {
   "cell_type": "code",
   "execution_count": 8,
   "metadata": {
    "collapsed": false,
    "deletable": true,
    "editable": true,
    "scrolled": true
   },
   "outputs": [
    {
     "data": {
      "text/plain": [
       "<matplotlib.axes._subplots.AxesSubplot at 0x7f7952c02ed0>"
      ]
     },
     "execution_count": 8,
     "metadata": {},
     "output_type": "execute_result"
    },
    {
     "data": {
      "image/png": "[encoded data removed]",
      "text/plain": [
       "<matplotlib.figure.Figure at 0x7f7952a54bd0>"
      ]
     },
     "metadata": {},
     "output_type": "display_data"
    }
   ],
   "source": [
    "data_set[\"availability_365\"].plot(kind=\"bar\")"
   ]
  },
  {
   "cell_type": "code",
   "execution_count": 10,
   "metadata": {
    "collapsed": false,
    "deletable": true,
    "editable": true,
    "scrolled": true
   },
   "outputs": [
    {
     "data": {
      "text/plain": [
       "0         Pittwater\n",
       "1         Pittwater\n",
       "2         Pittwater\n",
       "3         Pittwater\n",
       "4         Pittwater\n",
       "5         Pittwater\n",
       "6         Pittwater\n",
       "7         Pittwater\n",
       "8         Pittwater\n",
       "9         Pittwater\n",
       "10        Pittwater\n",
       "11        Pittwater\n",
       "12        Pittwater\n",
       "13        Pittwater\n",
       "14        Pittwater\n",
       "15        Pittwater\n",
       "16        Pittwater\n",
       "17        Pittwater\n",
       "18        Pittwater\n",
       "19        Pittwater\n",
       "20        Pittwater\n",
       "21        Pittwater\n",
       "22        Pittwater\n",
       "23        Pittwater\n",
       "24        Pittwater\n",
       "25        Pittwater\n",
       "26        Pittwater\n",
       "27        Pittwater\n",
       "28        Pittwater\n",
       "29        Pittwater\n",
       "            ...    \n",
       "24008       Burwood\n",
       "24009       Burwood\n",
       "24010       Burwood\n",
       "24011       Burwood\n",
       "24012       Burwood\n",
       "24013       Burwood\n",
       "24014       Burwood\n",
       "24015       Burwood\n",
       "24016       Burwood\n",
       "24017       Burwood\n",
       "24018       Burwood\n",
       "24019       Burwood\n",
       "24020       Burwood\n",
       "24021       Burwood\n",
       "24022       Burwood\n",
       "24023       Burwood\n",
       "24024       Burwood\n",
       "24025       Burwood\n",
       "24026       Burwood\n",
       "24027       Burwood\n",
       "24028       Burwood\n",
       "24029       Burwood\n",
       "24030       Burwood\n",
       "24031       Burwood\n",
       "24032        Sydney\n",
       "24033        Sydney\n",
       "24034    Canada Bay\n",
       "24035        Sydney\n",
       "24036     Woollahra\n",
       "24037       Hornsby\n",
       "Name: neighbourhood, dtype: object"
      ]
     },
     "execution_count": 10,
     "metadata": {},
     "output_type": "execute_result"
    }
   ],
   "source": [
    "hood = data_set[\"neighbourhood\"]\n",
    "hood"
   ]
  },
  {
   "cell_type": "code",
   "execution_count": null,
   "metadata": {
    "collapsed": true,
    "deletable": true,
    "editable": true
   },
   "outputs": [],
   "source": [
    "data_set[\"room_type\"]"
   ]
  },
  {
   "cell_type": "code",
   "execution_count": 6,
   "metadata": {
    "collapsed": true,
    "deletable": true,
    "editable": true
   },
   "outputs": [],
   "source": [
    "avail = data_set[\"availability_365\"]"
   ]
  },
  {
   "cell_type": "code",
   "execution_count": 7,
   "metadata": {
    "collapsed": true,
    "deletable": true,
    "editable": true
   },
   "outputs": [],
   "source": [
    "avail = avail[avail > 200]"
   ]
  },
  {
   "cell_type": "code",
   "execution_count": 8,
   "metadata": {
    "collapsed": true,
    "deletable": true,
    "editable": true
   },
   "outputs": [],
   "source": [
    "avail = avail[avail < 300]"
   ]
  },
  {
   "cell_type": "code",
   "execution_count": 10,
   "metadata": {
    "collapsed": false,
    "deletable": true,
    "editable": true,
    "scrolled": true
   },
   "outputs": [
    {
     "data": {
      "text/plain": [
       "<matplotlib.axes._subplots.AxesSubplot at 0x7fa97e8ef110>"
      ]
     },
     "execution_count": 10,
     "metadata": {},
     "output_type": "execute_result"
    },
    {
     "data": {
      "image/png": "[encoded data removed]",
      "text/plain": [
       "<matplotlib.figure.Figure at 0x7fa980fc3790>"
      ]
     },
     "metadata": {},
     "output_type": "display_data"
    }
   ],
   "source": [
    "avail.hist()\n"
   ]
  },
  {
   "cell_type": "code",
   "execution_count": 15,
   "metadata": {
    "collapsed": false,
    "deletable": true,
    "editable": true
   },
   "outputs": [
    {
     "data": {
      "text/plain": [
       "Index([u'id', u'name', u'host_id', u'host_name', u'neighbourhood_group',\n",
       "       u'neighbourhood', u'latitude', u'longitude', u'room_type', u'price',\n",
       "       u'minimum_nights', u'number_of_reviews', u'last_review',\n",
       "       u'reviews_per_month', u'calculated_host_listings_count',\n",
       "       u'availability_365'],\n",
       "      dtype='object')"
      ]
     },
     "execution_count": 15,
     "metadata": {},
     "output_type": "execute_result"
    }
   ],
   "source": [
    "data_set.columns\n",
    "\n"
   ]
  },
  {
   "cell_type": "code",
   "execution_count": 24,
   "metadata": {
    "collapsed": false,
    "deletable": true,
    "editable": true
   },
   "outputs": [
    {
     "data": {
      "text/plain": [
       "2017-01-01    525\n",
       "2017-04-01    518\n",
       "2017-03-25    479\n",
       "2017-03-18    396\n",
       "2017-01-02    339\n",
       "2017-03-30    330\n",
       "2017-03-11    309\n",
       "2017-03-26    282\n",
       "2017-03-04    279\n",
       "2017-03-19    263\n",
       "2017-03-31    263\n",
       "2017-01-03    260\n",
       "2016-12-31    246\n",
       "2017-03-12    243\n",
       "2017-03-29    238\n",
       "2017-04-02    231\n",
       "2017-03-24    213\n",
       "2017-03-17    211\n",
       "2017-03-28    204\n",
       "2017-03-27    183\n",
       "2016-01-05    177\n",
       "2017-03-21    176\n",
       "2017-03-23    172\n",
       "2017-03-20    170\n",
       "2017-01-04    167\n",
       "2017-02-25    167\n",
       "2017-03-16    162\n",
       "2016-01-03    161\n",
       "2017-03-22    161\n",
       "2017-03-05    158\n",
       "             ... \n",
       "2014-04-27      1\n",
       "2015-06-18      1\n",
       "2014-11-23      1\n",
       "2015-06-17      1\n",
       "2014-05-25      1\n",
       "2014-05-26      1\n",
       "2015-10-15      1\n",
       "2014-06-09      1\n",
       "2014-06-02      1\n",
       "2016-08-04      1\n",
       "2014-01-29      1\n",
       "2014-01-20      1\n",
       "2014-01-21      1\n",
       "2014-01-26      1\n",
       "2014-10-15      1\n",
       "2014-10-13      1\n",
       "2014-10-12      1\n",
       "2014-10-10      1\n",
       "2013-12-29      1\n",
       "2013-12-28      1\n",
       "2014-09-18      1\n",
       "2013-04-20      1\n",
       "2013-12-24      1\n",
       "2015-09-10      1\n",
       "2015-09-11      1\n",
       "2015-09-19      1\n",
       "2015-07-08      1\n",
       "2015-06-11      1\n",
       "2015-06-12      1\n",
       "2014-05-27      1\n",
       "Name: last_review, dtype: int64"
      ]
     },
     "execution_count": 24,
     "metadata": {},
     "output_type": "execute_result"
    }
   ],
   "source": [
    "data_set[\"last_review\"].value_counts()"
   ]
  },
  {
   "cell_type": "code",
   "execution_count": 17,
   "metadata": {
    "collapsed": false,
    "deletable": true,
    "editable": true
   },
   "outputs": [
    {
     "data": {
      "image/png": "[encoded data removed]",
      "text/plain": [
       "<matplotlib.figure.Figure at 0x7f794e21d190>"
      ]
     },
     "metadata": {},
     "output_type": "display_data"
    }
   ],
   "source": [
    "lat = data_set[\"latitude\"]\n",
    "lon = data_set[\"longitude\"]\n",
    "plt.scatter(lon, lat)\n",
    "plt.show()\n"
   ]
  },
  {
   "cell_type": "code",
   "execution_count": 34,
   "metadata": {
    "collapsed": false
   },
   "outputs": [
    {
     "data": {
      "text/plain": [
       "Sydney              5675\n",
       "Waverley            4154\n",
       "Randwick            2267\n",
       "Manly               1318\n",
       "Woollahra           1299\n",
       "Warringah           1207\n",
       "North Sydney        1007\n",
       "Marrickville         914\n",
       "Pittwater            830\n",
       "Leichhardt           709\n",
       "Rockdale             397\n",
       "Mosman               382\n",
       "Sutherland Shire     335\n",
       "Willoughby           311\n",
       "Ryde                 287\n",
       "Canada Bay           260\n",
       "Botany Bay           252\n",
       "Hornsby              244\n",
       "Parramatta           234\n",
       "Ku-Ring-Gai          216\n",
       "Lane Cove            211\n",
       "The Hills Shire      152\n",
       "Ashfield             149\n",
       "Canterbury           141\n",
       "Auburn               137\n",
       "Blacktown            121\n",
       "Burwood              110\n",
       "City Of Kogarah      108\n",
       "Hurstville            92\n",
       "Bankstown             85\n",
       "Holroyd               83\n",
       "Strathfield           81\n",
       "Penrith               68\n",
       "Liverpool             55\n",
       "Hunters Hill          53\n",
       "Campbelltown          51\n",
       "Fairfield             22\n",
       "Camden                21\n",
       "Name: neighbourhood, dtype: int64"
      ]
     },
     "execution_count": 34,
     "metadata": {},
     "output_type": "execute_result"
    }
   ],
   "source": [
    "hood = data_set[\"neighbourhood\"]\n",
    "price = data_set[\"price\"]\n",
    "hood.value_counts()"
   ]
  },
  {
   "cell_type": "code",
   "execution_count": 44,
   "metadata": {
    "collapsed": false,
    "deletable": true,
    "editable": true
   },
   "outputs": [
    {
     "ename": "TypeError",
     "evalue": "unsupported operand type(s) for -: 'str' and 'float'",
     "output_type": "error",
     "traceback": [
      "\u001b[0;31m---------------------------------------------------------------------------\u001b[0m",
      "\u001b[0;31mTypeError\u001b[0m                                 Traceback (most recent call last)",
      "\u001b[0;32m<ipython-input-44-8e630f47a93f>\u001b[0m in \u001b[0;36m<module>\u001b[0;34m()\u001b[0m\n\u001b[1;32m      1\u001b[0m \u001b[0mcost\u001b[0m \u001b[0;34m=\u001b[0m \u001b[0mdata_set\u001b[0m\u001b[0;34m[\u001b[0m\u001b[0;34m[\u001b[0m\u001b[0;34m\"neighbourhood\"\u001b[0m\u001b[0;34m,\u001b[0m\u001b[0;34m\"price\"\u001b[0m\u001b[0;34m]\u001b[0m\u001b[0;34m]\u001b[0m\u001b[0;34m.\u001b[0m\u001b[0mgroupby\u001b[0m\u001b[0;34m(\u001b[0m\u001b[0;34m\"neighbourhood\"\u001b[0m\u001b[0;34m)\u001b[0m\u001b[0;34m.\u001b[0m\u001b[0msum\u001b[0m\u001b[0;34m(\u001b[0m\u001b[0;34m)\u001b[0m\u001b[0;34m\u001b[0m\u001b[0m\n\u001b[1;32m      2\u001b[0m \u001b[0mx\u001b[0m \u001b[0;34m=\u001b[0m \u001b[0mcost\u001b[0m\u001b[0;34m.\u001b[0m\u001b[0mindex\u001b[0m\u001b[0;34m\u001b[0m\u001b[0m\n\u001b[0;32m----> 3\u001b[0;31m \u001b[0mplt\u001b[0m\u001b[0;34m.\u001b[0m\u001b[0mbar\u001b[0m\u001b[0;34m(\u001b[0m\u001b[0mx\u001b[0m\u001b[0;34m,\u001b[0m \u001b[0mcost\u001b[0m\u001b[0;34m[\u001b[0m\u001b[0;34m\"price\"\u001b[0m\u001b[0;34m]\u001b[0m\u001b[0;34m)\u001b[0m\u001b[0;34m\u001b[0m\u001b[0m\n\u001b[0m\u001b[1;32m      4\u001b[0m \u001b[0mplt\u001b[0m\u001b[0;34m.\u001b[0m\u001b[0mshow\u001b[0m\u001b[0;34m(\u001b[0m\u001b[0;34m)\u001b[0m\u001b[0;34m\u001b[0m\u001b[0m\n\u001b[1;32m      5\u001b[0m \u001b[0mcost\u001b[0m\u001b[0;34m\u001b[0m\u001b[0m\n",
      "\u001b[0;32m/usr/local/lib/python2.7/dist-packages/matplotlib/pyplot.pyc\u001b[0m in \u001b[0;36mbar\u001b[0;34m(left, height, width, bottom, hold, data, **kwargs)\u001b[0m\n\u001b[1;32m   2703\u001b[0m     \u001b[0;32mtry\u001b[0m\u001b[0;34m:\u001b[0m\u001b[0;34m\u001b[0m\u001b[0m\n\u001b[1;32m   2704\u001b[0m         ret = ax.bar(left, height, width=width, bottom=bottom, data=data,\n\u001b[0;32m-> 2705\u001b[0;31m                      **kwargs)\n\u001b[0m\u001b[1;32m   2706\u001b[0m     \u001b[0;32mfinally\u001b[0m\u001b[0;34m:\u001b[0m\u001b[0;34m\u001b[0m\u001b[0m\n\u001b[1;32m   2707\u001b[0m         \u001b[0max\u001b[0m\u001b[0;34m.\u001b[0m\u001b[0m_hold\u001b[0m \u001b[0;34m=\u001b[0m \u001b[0mwashold\u001b[0m\u001b[0;34m\u001b[0m\u001b[0m\n",
      "\u001b[0;32m/usr/local/lib/python2.7/dist-packages/matplotlib/__init__.pyc\u001b[0m in \u001b[0;36minner\u001b[0;34m(ax, *args, **kwargs)\u001b[0m\n\u001b[1;32m   1890\u001b[0m                     warnings.warn(msg % (label_namer, func.__name__),\n\u001b[1;32m   1891\u001b[0m                                   RuntimeWarning, stacklevel=2)\n\u001b[0;32m-> 1892\u001b[0;31m             \u001b[0;32mreturn\u001b[0m \u001b[0mfunc\u001b[0m\u001b[0;34m(\u001b[0m\u001b[0max\u001b[0m\u001b[0;34m,\u001b[0m \u001b[0;34m*\u001b[0m\u001b[0margs\u001b[0m\u001b[0;34m,\u001b[0m \u001b[0;34m**\u001b[0m\u001b[0mkwargs\u001b[0m\u001b[0;34m)\u001b[0m\u001b[0;34m\u001b[0m\u001b[0m\n\u001b[0m\u001b[1;32m   1893\u001b[0m         \u001b[0mpre_doc\u001b[0m \u001b[0;34m=\u001b[0m \u001b[0minner\u001b[0m\u001b[0;34m.\u001b[0m\u001b[0m__doc__\u001b[0m\u001b[0;34m\u001b[0m\u001b[0m\n\u001b[1;32m   1894\u001b[0m         \u001b[0;32mif\u001b[0m \u001b[0mpre_doc\u001b[0m \u001b[0;32mis\u001b[0m \u001b[0mNone\u001b[0m\u001b[0;34m:\u001b[0m\u001b[0;34m\u001b[0m\u001b[0m\n",
      "\u001b[0;32m/usr/local/lib/python2.7/dist-packages/matplotlib/axes/_axes.pyc\u001b[0m in \u001b[0;36mbar\u001b[0;34m(self, left, height, width, bottom, **kwargs)\u001b[0m\n\u001b[1;32m   2103\u001b[0m         \u001b[0;32mif\u001b[0m \u001b[0malign\u001b[0m \u001b[0;34m==\u001b[0m \u001b[0;34m'center'\u001b[0m\u001b[0;34m:\u001b[0m\u001b[0;34m\u001b[0m\u001b[0m\n\u001b[1;32m   2104\u001b[0m             \u001b[0;32mif\u001b[0m \u001b[0morientation\u001b[0m \u001b[0;34m==\u001b[0m \u001b[0;34m'vertical'\u001b[0m\u001b[0;34m:\u001b[0m\u001b[0;34m\u001b[0m\u001b[0m\n\u001b[0;32m-> 2105\u001b[0;31m                 \u001b[0mleft\u001b[0m \u001b[0;34m=\u001b[0m \u001b[0;34m[\u001b[0m\u001b[0mleft\u001b[0m\u001b[0;34m[\u001b[0m\u001b[0mi\u001b[0m\u001b[0;34m]\u001b[0m \u001b[0;34m-\u001b[0m \u001b[0mwidth\u001b[0m\u001b[0;34m[\u001b[0m\u001b[0mi\u001b[0m\u001b[0;34m]\u001b[0m \u001b[0;34m/\u001b[0m \u001b[0;36m2.\u001b[0m \u001b[0;32mfor\u001b[0m \u001b[0mi\u001b[0m \u001b[0;32min\u001b[0m \u001b[0mxrange\u001b[0m\u001b[0;34m(\u001b[0m\u001b[0mlen\u001b[0m\u001b[0;34m(\u001b[0m\u001b[0mleft\u001b[0m\u001b[0;34m)\u001b[0m\u001b[0;34m)\u001b[0m\u001b[0;34m]\u001b[0m\u001b[0;34m\u001b[0m\u001b[0m\n\u001b[0m\u001b[1;32m   2106\u001b[0m             \u001b[0;32melif\u001b[0m \u001b[0morientation\u001b[0m \u001b[0;34m==\u001b[0m \u001b[0;34m'horizontal'\u001b[0m\u001b[0;34m:\u001b[0m\u001b[0;34m\u001b[0m\u001b[0m\n\u001b[1;32m   2107\u001b[0m                 bottom = [bottom[i] - height[i] / 2.\n",
      "\u001b[0;31mTypeError\u001b[0m: unsupported operand type(s) for -: 'str' and 'float'"
     ]
    },
    {
     "data": {
      "image/png": "[encoded data removed]",
      "text/plain": [
       "<matplotlib.figure.Figure at 0x7f7913ebf910>"
      ]
     },
     "metadata": {},
     "output_type": "display_data"
    }
   ],
   "source": [
    "cost = data_set[[\"neighbourhood\",\"price\"]].groupby(\"neighbourhood\").sum()\n",
    "x = cost.index\n",
    "plt.bar(x, cost[\"price\"])\n",
    "plt.show()\n",
    "cost"
   ]
  },
  {
   "cell_type": "code",
   "execution_count": null,
   "metadata": {
    "collapsed": true
   },
   "outputs": [],
   "source": []
  }
 ],
 "metadata": {
  "kernelspec": {
   "display_name": "Python 2",
   "language": "python",
   "name": "python2"
  },
  "language_info": {
   "codemirror_mode": {
    "name": "ipython",
    "version": 2
   },
   "file_extension": ".py",
   "mimetype": "text/x-python",
   "name": "python",
   "nbconvert_exporter": "python",
   "pygments_lexer": "ipython2",
   "version": "2.7.12"
  }
 },
 "nbformat": 4,
 "nbformat_minor": 2
}
